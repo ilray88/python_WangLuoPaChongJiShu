{
 "cells": [
  {
   "cell_type": "code",
   "execution_count": 1,
   "metadata": {
    "collapsed": true
   },
   "outputs": [],
   "source": [
    "# 代码 2-1\n",
    "\n",
    "# 导入socket库及依赖库\n",
    "import socket\n",
    "import threading\n",
    "import time\n",
    "# 建立TCP连接\n",
    "s = socket.socket(socket.AF_INET, socket.SOCK_STREAM)"
   ]
  },
  {
   "cell_type": "code",
   "execution_count": 2,
   "outputs": [],
   "source": [
    "# 代码 2-2\n",
    "\n",
    "# 绑定地址及监听端口\n",
    "s.bind(('127.0.0.1', 6666))"
   ],
   "metadata": {
    "collapsed": false,
    "pycharm": {
     "name": "#%%\n"
    }
   }
  },
  {
   "cell_type": "code",
   "execution_count": 3,
   "outputs": [
    {
     "name": "stdout",
     "output_type": "stream",
     "text": [
      "Wait for connection...\n"
     ]
    }
   ],
   "source": [
    "# 代码 2-3\n",
    "\n",
    "# 调用listen方法监听端口\n",
    "s.listen(5)\n",
    "print('Wait for connection...')"
   ],
   "metadata": {
    "collapsed": false,
    "pycharm": {
     "name": "#%%\n"
    }
   }
  },
  {
   "cell_type": "code",
   "execution_count": 4,
   "outputs": [],
   "source": [
    "\n",
    "# 代码 2-4\n",
    "\n",
    "# 服务器端应答函数：\n",
    "def tcp(sock, addr):\n",
    "    print('Accept new connection from %s:%s...' % addr)\n",
    "    sock.send(b'Success!')\n",
    "    while True:\n",
    "        data = sock.recv(1024)\n",
    "        time.sleep(1)\n",
    "        if not data or data.decode('utf-8') == 'exit':\n",
    "            break\n",
    "        sock.send(('Welcom! %s!' % data.decode('utf-8')).encode('utf-8'))\n",
    "    sock.close()\n",
    "    print('Connection from %s:%s closed.' % addr)"
   ],
   "metadata": {
    "collapsed": false,
    "pycharm": {
     "name": "#%%\n"
    }
   }
  },
  {
   "cell_type": "raw",
   "source": [
    "\n",
    "# 代码 2-5\n",
    "\n",
    "# 循环处理客户端连接\n",
    "while True:\n",
    "    # 接受来自客户端的新连接:\n",
    "    sock, addr = s.accept()\n",
    "    # 创建新线程来处理TCP连接:\n",
    "    t = threading.Thread(target=tcp,args=(sock, addr))\n",
    "    t.start()\n"
   ],
   "metadata": {
    "collapsed": false,
    "pycharm": {
     "name": "#%% raw\n",
     "is_executing": true
    }
   }
  },
  {
   "cell_type": "code",
   "execution_count": 1,
   "outputs": [
    {
     "ename": "ConnectionRefusedError",
     "evalue": "[WinError 10061] 由于目标计算机积极拒绝，无法连接。",
     "output_type": "error",
     "traceback": [
      "\u001B[1;31m---------------------------------------------------------------------------\u001B[0m",
      "\u001B[1;31mConnectionRefusedError\u001B[0m                    Traceback (most recent call last)",
      "\u001B[1;32m<ipython-input-1-f008e5fe89dc>\u001B[0m in \u001B[0;36m<module>\u001B[1;34m\u001B[0m\n\u001B[0;32m      6\u001B[0m \u001B[0ms\u001B[0m \u001B[1;33m=\u001B[0m \u001B[0msocket\u001B[0m\u001B[1;33m.\u001B[0m\u001B[0msocket\u001B[0m\u001B[1;33m(\u001B[0m\u001B[0msocket\u001B[0m\u001B[1;33m.\u001B[0m\u001B[0mAF_INET\u001B[0m\u001B[1;33m,\u001B[0m \u001B[0msocket\u001B[0m\u001B[1;33m.\u001B[0m\u001B[0mSOCK_STREAM\u001B[0m\u001B[1;33m)\u001B[0m\u001B[1;33m\u001B[0m\u001B[1;33m\u001B[0m\u001B[0m\n\u001B[0;32m      7\u001B[0m \u001B[1;31m# 与服务器建立连接\u001B[0m\u001B[1;33m\u001B[0m\u001B[1;33m\u001B[0m\u001B[1;33m\u001B[0m\u001B[0m\n\u001B[1;32m----> 8\u001B[1;33m \u001B[0ms\u001B[0m\u001B[1;33m.\u001B[0m\u001B[0mconnect\u001B[0m\u001B[1;33m(\u001B[0m\u001B[1;33m(\u001B[0m\u001B[1;34m'127.0.0.1'\u001B[0m\u001B[1;33m,\u001B[0m \u001B[1;36m6666\u001B[0m\u001B[1;33m)\u001B[0m\u001B[1;33m)\u001B[0m\u001B[1;33m\u001B[0m\u001B[1;33m\u001B[0m\u001B[0m\n\u001B[0m\u001B[0;32m      9\u001B[0m \u001B[1;31m# 接受服务器的连接成功提示信息\u001B[0m\u001B[1;33m\u001B[0m\u001B[1;33m\u001B[0m\u001B[1;33m\u001B[0m\u001B[0m\n\u001B[0;32m     10\u001B[0m \u001B[0mprint\u001B[0m\u001B[1;33m(\u001B[0m\u001B[0ms\u001B[0m\u001B[1;33m.\u001B[0m\u001B[0mrecv\u001B[0m\u001B[1;33m(\u001B[0m\u001B[1;36m1024\u001B[0m\u001B[1;33m)\u001B[0m\u001B[1;33m.\u001B[0m\u001B[0mdecode\u001B[0m\u001B[1;33m(\u001B[0m\u001B[1;34m'utf-8'\u001B[0m\u001B[1;33m)\u001B[0m\u001B[1;33m)\u001B[0m\u001B[1;33m\u001B[0m\u001B[1;33m\u001B[0m\u001B[0m\n",
      "\u001B[1;31mConnectionRefusedError\u001B[0m: [WinError 10061] 由于目标计算机积极拒绝，无法连接。"
     ]
    }
   ],
   "source": [
    "# 代码 2-6\n",
    "\n",
    "# 导入socket库\n",
    "import socket\n",
    "# 建立TCP连接\n",
    "s = socket.socket(socket.AF_INET, socket.SOCK_STREAM)\n",
    "# 与服务器建立连接\n",
    "s.connect(('127.0.0.1', 6666))\n",
    "# 接受服务器的连接成功提示信息\n",
    "print(s.recv(1024).decode('utf-8'))\n",
    "# 发送数据并接受服务器返回结果\n",
    "for data in [b'Tom', b'Jerry', b'Spike']:\n",
    "\ts.send(data)\n",
    "\tprint(s.recv(1024).decode('utf-8'))\n",
    "# 发送退出信息断开连接\n",
    "s.send(b'exit')\n",
    "s.close()"
   ],
   "metadata": {
    "collapsed": false,
    "pycharm": {
     "name": "#%%\n"
    }
   }
  },
  {
   "cell_type": "code",
   "execution_count": null,
   "outputs": [],
   "source": [
    "# 代码 2-7\n",
    "\n",
    "# 导入socket库\n",
    "import socket\n",
    "# 建立UDP连接\n",
    "s = socket.socket(socket.AF_INET, socket.SOCK_DGRAM)\n",
    "# 绑定地址与端口\n",
    "s.bind(('127.0.0.1', 6666))\n",
    "print('set UDP on 6666...')\n",
    "while True:\n",
    "\t# 接收来自任意客户端的数据:\n",
    "\tdata, addr = s.recvfrom(1024)\n",
    "\t# 打印接受信息并回传欢迎信息\n",
    "\tprint('Received from %s:%s.' % addr)\n",
    "\ts.sendto(b'Welcom! %s!' % data, addr)\n",
    "\n",
    "\n",
    "\n",
    "# 代码 2-8\n",
    "\n",
    "# 导入socket库\n",
    "import socket\n",
    "# 建立UDP连接\n",
    "s = socket.socket(socket.AF_INET, socket. SOCK_DGRAM)\n",
    "\n",
    " # 发送数据并接受服务器回传数据\n",
    "for data in [b'Tom', b'Jerry', b'Spike']:\n",
    "\ts.sendto(data, ('127.0.0.1', 99996666))\n",
    "    print(s.recv(1024).decode('utf-8'))\n",
    "s.close()\n",
    "\n"
   ],
   "metadata": {
    "collapsed": false,
    "pycharm": {
     "name": "#%%\n"
    }
   }
  }
 ],
 "metadata": {
  "kernelspec": {
   "name": "pycharm-4aac85bb",
   "language": "python",
   "display_name": "PyCharm (HeiKeGongFang)"
  },
  "language_info": {
   "codemirror_mode": {
    "name": "ipython",
    "version": 2
   },
   "file_extension": ".py",
   "mimetype": "text/x-python",
   "name": "python",
   "nbconvert_exporter": "python",
   "pygments_lexer": "ipython2",
   "version": "2.7.6"
  }
 },
 "nbformat": 4,
 "nbformat_minor": 0
}